{
 "cells": [
  {
   "cell_type": "code",
   "execution_count": 3,
   "id": "4f322b26-4e8a-43f8-b0b3-90a6783f5fbe",
   "metadata": {},
   "outputs": [
    {
     "name": "stderr",
     "output_type": "stream",
     "text": [
      "[*********************100%***********************]  1 of 1 completed"
     ]
    },
    {
     "name": "stdout",
     "output_type": "stream",
     "text": [
      "\n",
      "Task 1: Predicting House Prices\n",
      "Mean Absolute Error (House Prices): 0.527247453830616\n",
      "\n",
      "Task 2: Estimating Sales\n",
      "Mean Squared Error (Sales): 1.944203071055249\n",
      "\n",
      "Task 3: Forecasting Stock Prices\n"
     ]
    },
    {
     "name": "stderr",
     "output_type": "stream",
     "text": [
      "\n"
     ]
    },
    {
     "name": "stdout",
     "output_type": "stream",
     "text": [
      "Mean Squared Error (Stock Prices): 12.850217458365599\n"
     ]
    }
   ],
   "source": [
    "import pandas as pd\n",
    "import numpy as np\n",
    "from sklearn.datasets import fetch_california_housing\n",
    "from sklearn.model_selection import train_test_split, cross_val_score\n",
    "from sklearn.linear_model import LinearRegression\n",
    "from sklearn.ensemble import RandomForestRegressor\n",
    "from sklearn.metrics import mean_absolute_error, mean_squared_error\n",
    "import yfinance as yf\n",
    "\n",
    "# Task 1: Predicting House Prices\n",
    "def predict_house_prices():\n",
    "    print(\"\\nTask 1: Predicting House Prices\")\n",
    "    # Load dataset\n",
    "    housing = fetch_california_housing()\n",
    "    X = housing.data\n",
    "    y = housing.target\n",
    "\n",
    "    # Split data\n",
    "    X_train, X_test, y_train, y_test = train_test_split(X, y, test_size=0.30, random_state=42)\n",
    "\n",
    "    # Train model\n",
    "    model = LinearRegression()\n",
    "    model.fit(X_train, y_train)\n",
    "\n",
    "    # Predict and evaluate\n",
    "    y_pred = model.predict(X_test)\n",
    "    mae = mean_absolute_error(y_test, y_pred)\n",
    "    print(f\"Mean Absolute Error (House Prices): {mae}\")\n",
    "\n",
    "# Task 2: Estimating Sales Based on Advertising Spend\n",
    "def estimate_sales():\n",
    "    print(\"\\nTask 2: Estimating Sales\")\n",
    "    # Example dataset\n",
    "    data = {\n",
    "        \"TV\": [230.1, 44.5, 17.2, 151.5, 180.8],\n",
    "        \"Radio\": [37.8, 39.3, 45.9, 41.3, 10.8],\n",
    "        \"Newspaper\": [69.2, 45.1, 69.3, 58.5, 58.4],\n",
    "        \"Sales\": [22.1, 10.4, 9.3, 18.5, 12.9],\n",
    "    }\n",
    "    df = pd.DataFrame(data)\n",
    "\n",
    "    # Split features and target\n",
    "    X = df[[\"TV\", \"Radio\", \"Newspaper\"]]\n",
    "    y = df[\"Sales\"]\n",
    "\n",
    "    # Train-test split\n",
    "    X_train, X_test, y_train, y_test = train_test_split(X, y, test_size=0.2, random_state=42)\n",
    "\n",
    "    # Train model\n",
    "    model = LinearRegression()\n",
    "    model.fit(X_train, y_train)\n",
    "\n",
    "    # Predict and evaluate\n",
    "    y_pred = model.predict(X_test)\n",
    "    mse = mean_squared_error(y_test, y_pred)\n",
    "    print(f\"Mean Squared Error (Sales): {mse}\")\n",
    "\n",
    "# Task 3: Forecasting Stock Prices\n",
    "def forecast_stock_prices():\n",
    "    print(\"\\nTask 3: Forecasting Stock Prices\")\n",
    "    # Fetch stock data\n",
    "    data = yf.download(\"AAPL\", start=\"2022-01-01\", end=\"2023-01-01\")\n",
    "    data[\"Target\"] = data[\"Close\"].shift(-1)\n",
    "\n",
    "    # Prepare features and target\n",
    "    data.dropna(inplace=True)\n",
    "    X = data[[\"Open\", \"High\", \"Low\", \"Close\", \"Volume\"]]\n",
    "    y = data[\"Target\"]\n",
    "\n",
    "    # Train-test split\n",
    "    X_train, X_test, y_train, y_test = train_test_split(X, y, test_size=0.2, random_state=42)\n",
    "\n",
    "    # Train model\n",
    "    model = RandomForestRegressor()\n",
    "    model.fit(X_train, y_train)\n",
    "\n",
    "    # Predict and evaluate\n",
    "    y_pred = model.predict(X_test)\n",
    "    mse = mean_squared_error(y_test, y_pred)\n",
    "    print(f\"Mean Squared Error (Stock Prices): {mse}\")\n",
    "\n",
    "# Main Function\n",
    "if __name__ == \"__main__\":\n",
    "    predict_house_prices()\n",
    "    estimate_sales()\n",
    "    forecast_stock_prices()\n"
   ]
  },
  {
   "cell_type": "code",
   "execution_count": null,
   "id": "99dae698-15d4-4f8a-b6a8-2083e21e41f5",
   "metadata": {},
   "outputs": [],
   "source": []
  }
 ],
 "metadata": {
  "kernelspec": {
   "display_name": "Python 3 (ipykernel)",
   "language": "python",
   "name": "python3"
  },
  "language_info": {
   "codemirror_mode": {
    "name": "ipython",
    "version": 3
   },
   "file_extension": ".py",
   "mimetype": "text/x-python",
   "name": "python",
   "nbconvert_exporter": "python",
   "pygments_lexer": "ipython3",
   "version": "3.12.7"
  }
 },
 "nbformat": 4,
 "nbformat_minor": 5
}
